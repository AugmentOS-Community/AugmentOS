{
 "cells": [
  {
   "metadata": {
    "ExecuteTime": {
     "end_time": "2024-11-04T12:08:14.585137Z",
     "start_time": "2024-11-04T12:08:14.283619Z"
    }
   },
   "cell_type": "code",
   "source": [
    "import os\n",
    "from json import JSONDecodeError\n",
    "\n",
    "from openai import OpenAI\n",
    "import json\n",
    "import csv\n",
    "from tqdm import tqdm"
   ],
   "id": "a2c5192b23036e9e",
   "outputs": [],
   "execution_count": 1
  },
  {
   "metadata": {
    "ExecuteTime": {
     "end_time": "2024-11-04T12:13:14.347307Z",
     "start_time": "2024-11-04T12:13:14.326568Z"
    }
   },
   "cell_type": "code",
   "source": [
    "client = OpenAI(api_key=\"\")\n",
    "\n",
    "rare_word_percentages = [0.02, 0.03, 0.04, 0.05] # Follow the 95%/98% rule, but consider 3% and 4% as well\n",
    "TARGET_AUDIENCE = 'B1-B2 level' # According to the CEFR\n",
    "SOURCE_LANGUAGE = 'English'\n",
    "TARGET_LANGUAGE = 'Spanish'\n",
    "RARE_WORD_FREQUENCY = 'medium'\n",
    "\n",
    "folder_path = './articles'\n",
    "\n",
    "articles_dict = dict()\n",
    "\n",
    "for file_name in os.listdir(folder_path):\n",
    "\n",
    "    if file_name.endswith('.txt'):\n",
    "        for rare_word_percentage in rare_word_percentages:\n",
    "            file_path = os.path.join(folder_path, file_name)\n",
    "    \n",
    "            with open(file_path, 'r', encoding='utf-8') as file:\n",
    "                content = file.read()\n",
    "    \n",
    "            article_name = os.path.splitext(file_name)[0] + f\"_{int(rare_word_percentage * 100)}_percent\"\n",
    "            articles_dict[article_name] = dict()\n",
    "\n",
    "            articles_dict[article_name]['article_text'] = content\n",
    "            articles_dict[article_name]['article_length'] = len(content.split())\n",
    "            articles_dict[article_name]['number_of_rare_words'] = int(len(content.split()) * rare_word_percentage)"
   ],
   "id": "53b17fba4d71a70",
   "outputs": [],
   "execution_count": 6
  },
  {
   "metadata": {
    "ExecuteTime": {
     "end_time": "2024-11-04T12:13:16.326773Z",
     "start_time": "2024-11-04T12:13:16.324248Z"
    }
   },
   "cell_type": "code",
   "source": [
    "def parse_rare_words(article_data):\n",
    "    try:\n",
    "        parsed_data = json.loads(article_data)\n",
    "    except json.JSONDecodeError:\n",
    "        parsed_data = manually_parse_rare_words(article_data)\n",
    "\n",
    "    return parsed_data\n",
    "\n",
    "\n",
    "def manually_parse_rare_words(article_data):\n",
    "    parsed_data = {}\n",
    "\n",
    "    for line in article_data.splitlines():\n",
    "        if ':' in line:\n",
    "            key, value = line.split(':', 1)\n",
    "            parsed_data[key.strip()] = value.strip()\n",
    "\n",
    "    return parsed_data"
   ],
   "id": "345b7e50d7a2249f",
   "outputs": [],
   "execution_count": 7
  },
  {
   "metadata": {
    "ExecuteTime": {
     "end_time": "2024-11-04T12:13:59.055644Z",
     "start_time": "2024-11-04T12:13:59.052412Z"
    }
   },
   "cell_type": "code",
   "source": [
    "def generate_rare_words(article_dict):\n",
    "    word_gen_system_prompt = \"\"\"You are a bilingual language expert. Your task is to analyze the provided article and suggest nouns that would be unfamiliar to intermediate language learners but commonly known to native speakers.\n",
    "\n",
    "Key requirements:\n",
    "1. Generate nouns that native speakers would know but intermediate learners typically haven't learned yet\n",
    "2. Avoid basic vocabulary that intermediate learners would already know\n",
    "3. Focus on 2-5 syllable words\n",
    "4. Exclude highly technical, academic, or specialized terminology\n",
    "\n",
    "Please, provide content in valid JSON\"\"\"\n",
    "\n",
    "    word_gen_user_prompt = f\"\"\"Analyze the following article and identify {article_dict['number_of_rare_words']} nouns that would be unfamiliar to intermediate learners but known for native speakers.\n",
    "\n",
    "Target Language: {TARGET_LANGUAGE}\n",
    "Translation Language: {SOURCE_LANGUAGE}\n",
    "\n",
    "For each of the {article_dict['number_of_rare_words']} words, provide:\n",
    "1. The word in {TARGET_LANGUAGE}\n",
    "2. Its translation in {SOURCE_LANGUAGE}\n",
    "\n",
    "Format the output as a JSON array with the following structure:\n",
    "{{\n",
    "    \"rare_words\": [\n",
    "        {{\n",
    "            \"rare_word\": \"word in {TARGET_LANGUAGE}\",\n",
    "            \"translation\": \"word in {SOURCE_LANGUAGE}\",\n",
    "        }}\n",
    "    ]\n",
    "}}\n",
    "\n",
    "Article:\n",
    "{article_dict['article_text']}\"\"\"\n",
    "\n",
    "    response = client.chat.completions.create(\n",
    "        model=\"gpt-4o\",\n",
    "        response_format={\"type\": \"json_object\"},\n",
    "        messages=[\n",
    "            {\"role\": \"system\", \"content\": word_gen_system_prompt.strip()},\n",
    "            {\"role\": \"user\", \"content\": word_gen_user_prompt.strip()}\n",
    "        ]\n",
    "    )\n",
    "    \n",
    "    try:\n",
    "        final_response = parse_rare_words(response.choices[0].message.content)\n",
    "    except JSONDecodeError:\n",
    "        final_response = manually_parse_rare_words(response.choices[0].message.content)\n",
    "\n",
    "    return final_response['rare_words']\n",
    "\n",
    "\n",
    "# TODO: Control forms, Controls length, Rare, Having different sources - no leg up, Not latin-ate in rooting, germanic\n",
    "# TODO: Spanish L2, English L1\n",
    "# word_list_text = generate_rare_words()\n",
    "# print(\"Generated Rare Nouns:\\n\")\n",
    "# print(word_list_text)\n",
    "# print(\"\\n\" + \"-\"*80 + \"\\n\")\n"
   ],
   "id": "4c5d0127d336dcae",
   "outputs": [],
   "execution_count": 9
  },
  {
   "metadata": {
    "ExecuteTime": {
     "end_time": "2024-11-04T12:14:17.972496Z",
     "start_time": "2024-11-04T12:14:17.969221Z"
    }
   },
   "cell_type": "code",
   "source": [
    "def repurpose_article(articles_dict, rare_words):\n",
    "    system_prompt = \"\"\"You are a multilingual language expert. Your task is to:\n",
    "1. Translate the provided article into the target language\n",
    "2. Incorporate specified rare nouns into the translated text\n",
    "3. Ensure the final text maintains coherence and is appropriate for the target audience\n",
    "\n",
    "You will:\n",
    "- First translate the entire article into the target language using a language that is appropriate for the target audience\n",
    "- Then insert the provided rare words into the  text according to the specified frequency\n",
    "- Bold all inserted rare words using **word** format\n",
    "- Maintain the original article's tone and style while incorporating new vocabulary\n",
    "\n",
    "Parameters:\n",
    "- Target Language: The language to translate the article into\n",
    "- Target Audience: Language proficiency level (A1-C2 CEFR scale)\n",
    "- Word Frequency: How often to insert rare words (low: 1 time, medium: 2-3 times, high: 4+ times)\n",
    "- Article: The original article to translate\n",
    "- Rare Words List: The list of rare words to incorporate into the translated text\"\"\"\n",
    "\n",
    "    user_prompt = f\"\"\"Please follow these steps:\n",
    "1. Translate this article into {TARGET_LANGUAGE} using language appropriate for {TARGET_AUDIENCE} level learners\n",
    "2. Insert the provided rare nouns according to the specified frequency\n",
    "3. Mark all inserted rare words in **bold**\n",
    "\n",
    "Parameters:\n",
    "- Rare Word Frequency: medium\n",
    "- Target Audience: {TARGET_AUDIENCE}\n",
    "- Target Language: {TARGET_LANGUAGE}\n",
    "- Article: {articles_dict['article_text']}\n",
    "- Rare Words List: {rare_words}\"\"\"\n",
    "\n",
    "    response = client.chat.completions.create(\n",
    "        model=\"gpt-4o\",\n",
    "        messages=[\n",
    "            {\"role\": \"system\", \"content\": system_prompt.strip()},\n",
    "            {\"role\": \"user\", \"content\": user_prompt.strip()}\n",
    "        ]\n",
    "    )\n",
    "\n",
    "    return response.choices[0].message.content.strip()"
   ],
   "id": "8d3e1d474fa92aa7",
   "outputs": [],
   "execution_count": 10
  },
  {
   "metadata": {
    "ExecuteTime": {
     "end_time": "2024-11-04T12:14:37.796544Z",
     "start_time": "2024-11-04T12:14:20.378464Z"
    }
   },
   "cell_type": "code",
   "source": [
    "def main():\n",
    "    for article_name, article_dict in tqdm([list(articles_dict.items())[3]]):\n",
    "        rare_words = generate_rare_words(article_dict)\n",
    "\n",
    "        article_text_with_rare_words = repurpose_article(articles_dict[article_name], [rare_word['rare_word'] for rare_word in rare_words])\n",
    "        # article_text_with_rare_words = article_text_with_rare_words.replace('**', '') # Remove the bold formatting for now\n",
    "\n",
    "        articles_dict[article_name]['rare_words'] = rare_words\n",
    "        articles_dict[article_name]['article_text_with_rare_words'] = article_text_with_rare_words\n",
    "\n",
    "        # Save the rare words to a CSV file\n",
    "        with open(f'./rare_words/{article_name}_rare_words.csv', 'w', newline='', encoding='utf-8') as csv_file:\n",
    "            writer = csv.writer(csv_file)\n",
    "\n",
    "            writer.writerow(['rare_word', 'translation'])\n",
    "            for item in articles_dict[article_name]['rare_words']:\n",
    "                writer.writerow([item['rare_word'], item['translation']])\n",
    "\n",
    "        # Save the text with rare words to a text file\n",
    "        with open(f'./articles_with_rare_words/{article_name}_with_rare_words.txt', 'w', encoding='utf-8') as f:\n",
    "            f.write(article_text_with_rare_words)\n",
    "\n",
    "    with open('./articles_with_rare_words.json', 'w', encoding='utf-8') as json_file: # TODO: should we include datetime in the file name?\n",
    "        json.dump(articles_dict, json_file, ensure_ascii=False, indent=4)\n",
    "        \n",
    "\n",
    "if __name__ == '__main__':\n",
    "    main()"
   ],
   "id": "a0c51dc9abc53246",
   "outputs": [
    {
     "name": "stderr",
     "output_type": "stream",
     "text": [
      "100%|██████████| 1/1 [00:17<00:00, 17.35s/it]\n"
     ]
    }
   ],
   "execution_count": 11
  },
  {
   "metadata": {
    "ExecuteTime": {
     "end_time": "2024-11-04T12:15:42.436348Z",
     "start_time": "2024-11-04T12:15:42.433513Z"
    }
   },
   "cell_type": "code",
   "source": [
    "print(articles_dict[article_name]['rare_words'])\n",
    "print(articles_dict[article_name]['article_text_with_rare_words'])"
   ],
   "id": "5dafdd4f8c97b172",
   "outputs": [
    {
     "name": "stdout",
     "output_type": "stream",
     "text": [
      "[{'rare_word': 'camarero', 'translation': 'waiter'}, {'rare_word': 'chofer', 'translation': 'driver'}, {'rare_word': 'parcel', 'translation': 'plot'}, {'rare_word': 'malezas', 'translation': 'weeds'}, {'rare_word': 'complejo', 'translation': 'complex'}, {'rare_word': 'conveniencia', 'translation': 'convenience'}, {'rare_word': 'realidad', 'translation': 'reality'}, {'rare_word': 'industria', 'translation': 'industry'}, {'rare_word': 'noche', 'translation': 'night'}, {'rare_word': 'residente', 'translation': 'resident'}, {'rare_word': 'solicitud', 'translation': 'request'}, {'rare_word': 'amigo', 'translation': 'friend'}, {'rare_word': 'chofer', 'translation': 'driver'}, {'rare_word': 'frente', 'translation': 'forehead'}, {'rare_word': 'crédito', 'translation': 'credit'}, {'rare_word': 'sandwich', 'translation': 'sandwich'}, {'rare_word': 'empresas', 'translation': 'companies'}, {'rare_word': 'niebla', 'translation': 'fog'}, {'rare_word': 'posición', 'translation': 'position'}, {'rare_word': 'humedad', 'translation': 'humidity'}, {'rare_word': 'teléfono', 'translation': 'telephone'}, {'rare_word': 'marido', 'translation': 'husband'}, {'rare_word': 'detestadas', 'translation': 'hated'}]\n",
      "Roberto Chicas no utiliza más Uber. En **realidad**, no puede hacer mucho desde que conoció a Patrick Karajah. Fue una **noche** a finales de septiembre, cuando Chicas, un **camarero** de San Francisco, hizo lo que muchos **residentes** de San Francisco hacen: usó Uber para ir a su casa. Karajah, el **chofer** bajo demanda que respondió a su **solicitud**, recogió a Chicas y a sus dos **amigos**. Durante el viaje, dicen sus amigos, todos opinaron sobre qué camino tomar. Finalmente, cerca de la I-280, en una pequeña **parcel** de terreno con **malezas** entre un **complejo** de viviendas y la autopista, Karajah sacó a todos fuera del coche, sacó un martillo y, supuestamente, golpeó con él a Chicas en el rostro sólo una vez. Luego, Karajah volvió a subir a su coche y se marchó, dejando a Chicas semiinconsciente en la acera con múltiples fracturas de cráneo. Roberto Chicas tiene muy buenas razones para odiar a Uber.\n",
      "\n",
      "La primera vez que usé Uber no me pasó lo mismo que a Chicas. Probablemente fue algo así como lo que te pasó a ti. Estábamos en la fiesta de cumpleaños de un **amigo**, y después de algunas canciones, un baile poco recomendable y unos tragos aún menos recomendables, mi esposa y yo terminamos en la calle y bajo la lluvia. Los taxis son algo valioso de encontrar en la mayor parte de San Francisco, y más aún en las **noches** de **niebla** y **humedad**. Nos quedamos varados y necesitábamos llegar a casa para relevar a la niñera, así que tomé mi **teléfono**, descargué la aplicación Uber, agregué los datos de mi tarjeta de **crédito** y pedí un coche. Llegó en solo un par de minutos y puedo decir ahora que fue un alivio. Había esperado más tiempo por un **sandwich**.\n",
      "\n",
      "Esta es la razón por la que Uber es grandioso: supremo, ridículo, una **conveniencia** casi ostentosa. Es una empresa creada para dar servicio directamente a lo que parece ser el principio rector de la vida urbana del siglo XXI. Hay muchos tratando de tomar una porción de este mercado «a pedido» (servicios de limpieza a pedido, tintorería a pedido, peluquería a pedido, helados a pedido, marihuana a pedido), pero seamos sinceros, cualquiera que sepa algo, sabe esto: Uber es el mejor. Es más potente, más cómodo y está más disponible que cualquier otro servicio en el mercado.\n",
      "\n",
      "Uber hace que todo sea muy fácil, incluso odiarlo. No tanto como Roberto Chicas, pero algo más incierto, más flexible y más difícil de precisar.\n",
      "\n",
      "La empresa, valorada en 18.000 millones de dólares y en aumento, tiene una extraña **posición** en la **industria** de la tecnología. Entre una legión de **empresas** muy **detestadas** en un negocio muy detestado, es la que la gente más odia. Y las reacciones en su contra son fuertes, instintivas y, a menudo, difíciles de expresar.\n"
     ]
    }
   ],
   "execution_count": 16
  },
  {
   "metadata": {
    "ExecuteTime": {
     "end_time": "2024-11-04T12:20:01.103179Z",
     "start_time": "2024-11-04T12:20:01.098412Z"
    }
   },
   "cell_type": "code",
   "source": [
    "from collections import Counter\n",
    "import re\n",
    "\n",
    "text = articles_dict[article_name]['article_text_with_rare_words']\n",
    "\n",
    "cleaned_text = re.sub(r'[^\\w\\s]', '', text).lower()\n",
    "\n",
    "rare_words_dict = articles_dict[article_name]['rare_words']\n",
    "# Extract rare words from the dictionary\n",
    "rare_words = {entry['rare_word'] for entry in rare_words_dict}\n",
    "\n",
    "# Remove punctuation and convert to lowercase\n",
    "cleaned_text = re.sub(r'[^\\w\\s]', '', text).lower()\n",
    "\n",
    "# Split the text into words\n",
    "words = cleaned_text.split()\n",
    "\n",
    "# Count the frequency of each word\n",
    "word_counts = Counter(words)\n",
    "\n",
    "# Initialize a dictionary to hold the counts of all rare words\n",
    "rare_word_counts = {word: 0 for word in rare_words}\n",
    "\n",
    "# Update the counts with actual occurrences\n",
    "for word in rare_word_counts:\n",
    "    rare_word_counts[word] = word_counts.get(word, 0)\n",
    "\n",
    "# Print all rare words and their counts\n",
    "for word, count in rare_word_counts.items():\n",
    "    print(f\"{word}: {count}\")"
   ],
   "id": "bcaa57a156c9e75f",
   "outputs": [
    {
     "name": "stdout",
     "output_type": "stream",
     "text": [
      "camarero: 1\n",
      "empresas: 1\n",
      "industria: 1\n",
      "teléfono: 1\n",
      "malezas: 1\n",
      "noche: 1\n",
      "residente: 0\n",
      "frente: 0\n",
      "marido: 0\n",
      "realidad: 1\n",
      "humedad: 1\n",
      "chofer: 1\n",
      "parcel: 1\n",
      "sandwich: 1\n",
      "posición: 1\n",
      "amigo: 1\n",
      "conveniencia: 1\n",
      "solicitud: 1\n",
      "detestadas: 1\n",
      "complejo: 1\n",
      "niebla: 1\n",
      "crédito: 1\n"
     ]
    }
   ],
   "execution_count": 18
  }
 ],
 "metadata": {
  "kernelspec": {
   "display_name": "Python 3",
   "language": "python",
   "name": "python3"
  },
  "language_info": {
   "codemirror_mode": {
    "name": "ipython",
    "version": 2
   },
   "file_extension": ".py",
   "mimetype": "text/x-python",
   "name": "python",
   "nbconvert_exporter": "python",
   "pygments_lexer": "ipython2",
   "version": "2.7.6"
  }
 },
 "nbformat": 4,
 "nbformat_minor": 5
}
