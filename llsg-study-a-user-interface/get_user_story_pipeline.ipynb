{
 "cells": [
  {
   "metadata": {
    "ExecuteTime": {
     "end_time": "2024-10-23T16:35:00.314559Z",
     "start_time": "2024-10-23T16:35:00.312102Z"
    }
   },
   "cell_type": "code",
   "source": [
    "import openai\n",
    "from openai import OpenAI"
   ],
   "id": "a2c5192b23036e9e",
   "outputs": [],
   "execution_count": 34
  },
  {
   "metadata": {
    "ExecuteTime": {
     "end_time": "2024-10-23T16:35:26.985168Z",
     "start_time": "2024-10-23T16:35:26.976509Z"
    }
   },
   "cell_type": "code",
   "source": [
    "client = OpenAI(\n",
    "    api_key=''\n",
    ")\n",
    "\n",
    "RARE_WORD_FREQUENCY = 'medium' # Options: 'low', 'medium', 'high'\n",
    "STORY_LENGTH = 'approximately 500 words'\n",
    "TARGET_AUDIENCE = 'B1-B2 level' # According to the CEFR\n",
    "\n",
    "article = \"\"\"\"\"\"\n",
    "\n",
    "# 95%/98% rule"
   ],
   "id": "53b17fba4d71a70",
   "outputs": [],
   "execution_count": 39
  },
  {
   "metadata": {},
   "cell_type": "code",
   "outputs": [],
   "execution_count": null,
   "source": [
    "def generate_rare_nouns():\n",
    "    word_gen_system_prompt = \"\"\"I will provide you with an article. Your task is to generate a list of 20 rare words that could be inserted into this article to enrich its vocabulary. Please follow these criteria:\n",
    "\n",
    "Word frequency: The words should appear in English text with a frequency of approximately 0.001% to 0.01%.\n",
    "Word length: Focus on words that are 2-5 syllables long. Avoid excessively long or complex words.\n",
    "Relatability: Choose words that fit the context and tone of the article. They should enhance the writing without seeming out of place.\n",
    "Accessibility: Exclude highly technical, overly specialized, or abstract words that might confuse readers.\n",
    "Part of speech: Ensure all words are nouns.\n",
    "Usage: Provide a brief definition and suggest where in the article each word could be inserted, giving a brief example of how it might be used.\"\"\"\n",
    "\n",
    "    word_gen_user_prompt = f\"\"\"\n",
    "Please present the list in a clear, numbered format with each word, its definition, and a suggestion for its use in the article. After I provide the article, please analyze it and then generate the list of words based on its content and style. \n",
    "\n",
    "Article:\n",
    "{article}\"\"\"\n",
    "\n",
    "    response = client.chat.completions.create(\n",
    "        model=\"gpt-4o\",\n",
    "        messages=[\n",
    "            {\"role\": \"system\", \"content\": word_gen_system_prompt.strip()},\n",
    "            {\"role\": \"user\", \"content\": word_gen_user_prompt.strip()}\n",
    "        ]\n",
    "    )\n",
    "\n",
    "    return response.choices[0].message.content.strip()\n",
    "\n",
    "\n",
    "def extract_words(word_list_text):\n",
    "    words = []\n",
    "    lines = word_list_text.strip().split('\\n')\n",
    "    for line in lines:\n",
    "        if line.strip() == '':\n",
    "            continue\n",
    "        try:\n",
    "            _, rest = line.split('.', 1)\n",
    "            word = rest.split('(')[0].strip()\n",
    "            words.append(word)\n",
    "        except ValueError:\n",
    "            continue\n",
    "    return words\n",
    "\n",
    "# TODO: improve prompt parsing\n",
    "# TODO: Control forms, Controls length, Rare, Having different sources - no leg up, Not latin-ate in rooting, germanic\n",
    "# TODO: Change language\n",
    "# TODO: Spanish L2, English L1\n",
    "# word_list_text = generate_rare_nouns()\n",
    "# print(\"Generated Rare Nouns:\\n\")\n",
    "# print(word_list_text)\n",
    "# print(\"\\n\" + \"-\"*80 + \"\\n\")"
   ],
   "id": "4c5d0127d336dcae"
  },
  {
   "metadata": {
    "ExecuteTime": {
     "end_time": "2024-10-23T16:47:39.825412Z",
     "start_time": "2024-10-23T16:47:39.817740Z"
    }
   },
   "cell_type": "code",
   "source": [
    "def repurpose_article(rare_nouns):\n",
    "    system_prompt = \"\"\"\n",
    "    You are an AI designed to repurpose existing articles by incorporating rare words to assist users in expanding their vocabulary. \n",
    "    Your primary goal is to transform the provided text in a way that introduces rare words naturally, helping readers understand and \n",
    "    absorb their meanings while ensuring the rest of the content remains appropriate for the specified audience.\n",
    "\n",
    "Rare word frequency: Controls how often rare words are used in the repurposed text. (e.g., \"low\", \"medium\", \"high\")\n",
    "Story length: Specifies the approximate word count of the story. (e.g., \"500 words\", \"750 words\")\t\n",
    "Target audience: Determines the language proficiency level of the text’s intended readers. (e.g., from A1 to C2 according to the Common European Framework of Reference for Languages)\n",
    "\n",
    "Guidelines:\n",
    "Article: You will be provided with an existing article that needs to be repurposed.\n",
    "Rare Words List: A list of rare words that should be incorporated into the new version of the article.\n",
    "\n",
    "Natural Integration:\n",
    "\n",
    "Use rare words naturally within the narrative. The rare words should enhance the content and not feel out of place or forced.\n",
    "\n",
    "Guidelines:\n",
    "Follow the Rare word frequency parameter to determine how often rare words are integrated.\n",
    "For \"low\" frequency, use each rare word once.\n",
    "For \"medium\" frequency, use each rare word 2-3 times.\n",
    "For \"high\" frequency, use each rare word 4 or more times.\n",
    "\n",
    "Text Complexity:\n",
    "Ensure that non-rare vocabulary and sentence structure are appropriate for the target audience.\n",
    "\n",
    "Bold the rare words you insert into the repurposed text to highlight them for the reader.\"\"\"\n",
    "\n",
    "    user_prompt = f\"\"\"\n",
    "Analyze the provided article to understand its main ideas and structure.\n",
    "Identify suitable places to incorporate the rare words from the provided list based on the [RARE_WORD_FREQUENCY].\n",
    "Rewrite the article, integrating the rare words naturally and ensuring the text remains appropriate for the [AUDIENCE].\n",
    "Highlight the rare words in **bold** within the repurposed article.\n",
    "\n",
    "Rare word frequency: {RARE_WORD_FREQUENCY}\n",
    "Story Length: {STORY_LENGTH}\n",
    "Target audience: {TARGET_AUDIENCE}\n",
    "    \n",
    "Article:\n",
    "{article}\n",
    "Rare Words List:\n",
    "{rare_nouns}\"\"\"\n",
    "\n",
    "    response = client.chat.completions.create(\n",
    "        model=\"gpt-4o\",\n",
    "        messages=[\n",
    "            {\"role\": \"system\", \"content\": system_prompt.strip()},\n",
    "            {\"role\": \"user\", \"content\": user_prompt.strip()}\n",
    "        ]\n",
    "    )\n",
    "\n",
    "    return response.choices[0].message.content.strip()\n",
    "\n",
    "#TODO: change language\n"
   ],
   "id": "8d3e1d474fa92aa7",
   "outputs": [],
   "execution_count": 53
  },
  {
   "metadata": {
    "ExecuteTime": {
     "end_time": "2024-10-23T16:47:40.805861Z",
     "start_time": "2024-10-23T16:47:40.801243Z"
    }
   },
   "cell_type": "code",
   "source": [
    "def main():\n",
    "    word_list_text = generate_rare_nouns()\n",
    "    print(\"Generated Rare Nouns:\\n\")\n",
    "    print(word_list_text)\n",
    "    print(\"\\n\" + \"-\"*80 + \"\\n\")\n",
    "\n",
    "    rare_nouns = generate_rare_nouns()\n",
    "    print(\"Extracted Rare Words:\\n\")\n",
    "    print(rare_nouns)\n",
    "    print(\"\\n\" + \"-\"*80 + \"\\n\")\n",
    "\n",
    "    story = repurpose_article(rare_nouns)\n",
    "    print(\"Generated Story:\\n\")\n",
    "    print(story)"
   ],
   "id": "a0c51dc9abc53246",
   "outputs": [],
   "execution_count": 54
  },
  {
   "metadata": {},
   "cell_type": "code",
   "source": [
    "    story = repurpose_article()\n",
    "    print(\"Generated Story:\\n\")\n",
    "    print(story)"
   ],
   "id": "b99d305dc055539b",
   "outputs": [],
   "execution_count": null
  }
 ],
 "metadata": {
  "kernelspec": {
   "display_name": "Python 3",
   "language": "python",
   "name": "python3"
  },
  "language_info": {
   "codemirror_mode": {
    "name": "ipython",
    "version": 2
   },
   "file_extension": ".py",
   "mimetype": "text/x-python",
   "name": "python",
   "nbconvert_exporter": "python",
   "pygments_lexer": "ipython2",
   "version": "2.7.6"
  }
 },
 "nbformat": 4,
 "nbformat_minor": 5
}
