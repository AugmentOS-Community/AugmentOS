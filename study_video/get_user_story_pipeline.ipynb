{
 "cells": [
  {
   "metadata": {
    "ExecuteTime": {
     "end_time": "2024-10-23T16:35:00.314559Z",
     "start_time": "2024-10-23T16:35:00.312102Z"
    }
   },
   "cell_type": "code",
   "source": [
    "import openai\n",
    "from openai import OpenAI"
   ],
   "id": "a2c5192b23036e9e",
   "outputs": [],
   "execution_count": 34
  },
  {
   "metadata": {
    "ExecuteTime": {
     "end_time": "2024-10-23T16:35:26.985168Z",
     "start_time": "2024-10-23T16:35:26.976509Z"
    }
   },
   "cell_type": "code",
   "source": [
    "client = OpenAI(\n",
    "    api_key=''\n",
    ")\n",
    "\n",
    "RARE_WORD_FREQUENCY = 'medium' # Options: 'low', 'medium', 'high'\n",
    "STORY_LENGTH = 'approximately 500 words'\n",
    "TARGET_AUDIENCE = 'B1-B2 level' # According to the CEFR\n",
    "\n",
    "article = \"\"\"\"\"\""
   ],
   "id": "53b17fba4d71a70",
   "outputs": [],
   "execution_count": 39
  },
  {
   "cell_type": "code",
   "id": "initial_id",
   "metadata": {
    "collapsed": true,
    "ExecuteTime": {
     "end_time": "2024-10-23T16:37:16.220471Z",
     "start_time": "2024-10-23T16:36:57.201703Z"
    }
   },
   "source": [
    "def generate_rare_nouns():\n",
    "    word_gen_system_prompt = \"\"\"I will provide you with an article. Your task is to generate a list of 20 rare words that could be inserted into this article to enrich its vocabulary. Please follow these criteria:\n",
    "\n",
    "Word frequency: The words should appear in English text with a frequency of approximately 0.001% to 0.01%.\n",
    "Word length: Focus on words that are 2-5 syllables long. Avoid excessively long or complex words.\n",
    "Relatability: Choose words that fit the context and tone of the article. They should enhance the writing without seeming out of place.\n",
    "Accessibility: Exclude highly technical, overly specialized, or abstract words that might confuse readers.\n",
    "Part of speech: Ensure all words are nouns.\n",
    "Usage: Provide a brief definition and suggest where in the article each word could be inserted, giving a brief example of how it might be used.\"\"\"\n",
    "\n",
    "    word_gen_user_prompt = f\"\"\"\n",
    "Please present the list in a clear, numbered format with each word, its definition, and a suggestion for its use in the article. After I provide the article, please analyze it and then generate the list of words based on its content and style. \n",
    "\n",
    "Article:\n",
    "{article}\"\"\"\n",
    "\n",
    "    response = client.chat.completions.create(\n",
    "        model=\"gpt-4o\",\n",
    "        messages=[\n",
    "            {\"role\": \"system\", \"content\": word_gen_system_prompt.strip()},\n",
    "            {\"role\": \"user\", \"content\": word_gen_user_prompt.strip()}\n",
    "        ]\n",
    "    )\n",
    "\n",
    "    return response.choices[0].message.content.strip()\n",
    "\n",
    "def extract_words(word_list_text):\n",
    "    words = []\n",
    "    lines = word_list_text.strip().split('\\n')\n",
    "    for line in lines:\n",
    "        if line.strip() == '':\n",
    "            continue\n",
    "        try:\n",
    "            _, rest = line.split('.', 1)\n",
    "            word = rest.split('(')[0].strip()\n",
    "            words.append(word)\n",
    "        except ValueError:\n",
    "            continue\n",
    "    return words\n",
    "\n",
    "# TODO: improve prompt parsing\n",
    "# word_list_text = generate_rare_nouns()\n",
    "# print(\"Generated Rare Nouns:\\n\")\n",
    "# print(word_list_text)\n",
    "# print(\"\\n\" + \"-\"*80 + \"\\n\")"
   ],
   "outputs": [
    {
     "name": "stdout",
     "output_type": "stream",
     "text": [
      "Generated Rare Nouns:\n",
      "\n",
      "Here’s a list of 20 rare words that could enrich the vocabulary of your article, along with definitions and suggestions for their use:\n",
      "\n",
      "1. **Apex**\n",
      "   - Definition: The highest point or peak.\n",
      "   - Suggested Usage: \"Individuals who embrace a growth mindset often reach the apex of their potential.\"\n",
      "\n",
      "2. **Precept**\n",
      "   - Definition: A general rule intended to regulate behavior or thought.\n",
      "   - Suggested Usage: \"The fundamental precept of growth mindsets encourages continuous learning.\"\n",
      "\n",
      "3. **Tenet**\n",
      "   - Definition: A principle or belief, especially one of the main principles of a religion or philosophy.\n",
      "   - Suggested Usage: \"One tenet of growth mindset theory is that effort leads to success.\"\n",
      "\n",
      "4. **Catalyst**\n",
      "   - Definition: A person or thing that precipitates an event or change.\n",
      "   - Suggested Usage: \"A growth mindset can act as a catalyst for greater innovation within organizations.\"\n",
      "\n",
      "5. **Quagmire**\n",
      "   - Definition: A difficult, precarious situation.\n",
      "   - Suggested Usage: \"Companies often find themselves in a quagmire when navigating between fixed and growth mindsets.\"\n",
      "\n",
      "6. **Paradigm**\n",
      "   - Definition: A typical example or pattern of something; a model.\n",
      "   - Suggested Usage: \"Shifting from a fixed to a growth mindset requires a fundamental paradigm shift.\"\n",
      "\n",
      "7. **Philosophy**\n",
      "   - Definition: The study of the fundamental nature of knowledge, reality, and existence.\n",
      "   - Suggested Usage: \"The underlying philosophy of growth mindsets is based on resilience and adaptability.\"\n",
      "\n",
      "8. **Proponent**\n",
      "   - Definition: A person who advocates a theory, proposal, or project.\n",
      "   - Suggested Usage: \"As a proponent of growth mindsets, I advocate for supportive learning environments.\"\n",
      "\n",
      "9. **Resilience**\n",
      "   - Definition: The capacity to recover quickly from difficulties.\n",
      "   - Suggested Usage: \"Resilience is a critical trait fostered by a growth mindset.\"\n",
      "\n",
      "10. **Finesse**\n",
      "    - Definition: Intricate and refined delicacy or skill.\n",
      "    - Suggested Usage: \"They approached the challenge with finesse, driven by their growth mindset.\"\n",
      "\n",
      "11. **Enigma**\n",
      "    - Definition: A person or thing that is mysterious, puzzling, or difficult to understand.\n",
      "    - Suggested Usage: \"The enigma of motivation often ties back to mindset.\"\n",
      "\n",
      "12. **Consensus**\n",
      "    - Definition: General agreement among a group.\n",
      "    - Suggested Usage: \"A consensus on the importance of mindsets is vital for organizational change.\"\n",
      "\n",
      "13. **Aplomb**\n",
      "    - Definition: Self-confidence or assurance, especially in a demanding situation.\n",
      "    - Suggested Usage: \"She tackled the challenges with aplomb, embodying the principles of a growth mindset.\"\n",
      "\n",
      "14. **Epiphany**\n",
      "    - Definition: A moment of sudden revelation or insight.\n",
      "    - Suggested Usage: \"For many, the realization of the power of mindset comes as an epiphany.\"\n",
      "\n",
      "15. **Impetus**\n",
      "    - Definition: A force that makes something happen or happen more quickly.\n",
      "    - Suggested Usage: \"The success stories serve as an impetus for adopting growth mindsets.\"\n",
      "\n",
      "16. **Ineptitude**\n",
      "    - Definition: Lack of skill or ability.\n",
      "    - Suggested Usage: \"The ineptitude resulting from a fixed mindset can hinder company progress.\"\n",
      "\n",
      "17. **Altruism**\n",
      "    - Definition: The belief in or practice of selfless concern for the well-being of others.\n",
      "    - Suggested Usage: \"In a growth mindset corporate culture, altruism among employees flourishes.\"\n",
      "\n",
      "18. **Dichotomy**\n",
      "    - Definition: A division into two contrasting groups or entities.\n",
      "    - Suggested Usage: \"The dichotomy between growth and fixed mindsets is crucial to understanding employee behavior.\"\n",
      "\n",
      "19. **Luminary**\n",
      "    - Definition: A person who inspires or influences others, particularly in a particular field.\n",
      "    - Suggested Usage: \"Many luminaries in education advocate for the growth mindset approach.\"\n",
      "\n",
      "20. **Panacea**\n",
      "    - Definition: A solution or remedy for all difficulties or diseases.\n",
      "    - Suggested Usage: \"While a growth mindset is not a panacea, it significantly enhances overall performance.\"\n",
      "\n",
      "Each word can be strategically inserted into the article to elevate the language and reinforce the key themes around mindsets in education and organizational behavior.\n",
      "\n",
      "--------------------------------------------------------------------------------\n",
      "\n"
     ]
    }
   ],
   "execution_count": 43
  },
  {
   "metadata": {
    "ExecuteTime": {
     "end_time": "2024-10-23T16:47:39.825412Z",
     "start_time": "2024-10-23T16:47:39.817740Z"
    }
   },
   "cell_type": "code",
   "source": [
    "def repurpose_article():\n",
    "    system_prompt = \"\"\"\n",
    "    You are an AI designed to repurpose existing articles by incorporating rare words to assist users in expanding their vocabulary. \n",
    "    Your primary goal is to transform the provided text in a way that introduces rare words naturally, helping readers understand and \n",
    "    absorb their meanings while ensuring the rest of the content remains appropriate for the specified audience.\n",
    "\n",
    "Rare word frequency: Controls how often rare words are used in the repurposed text. (e.g., \"low\", \"medium\", \"high\")\n",
    "Story length: Specifies the approximate word count of the story. (e.g., \"500 words\", \"750 words\")\t\n",
    "Target audience: Determines the language proficiency level of the text’s intended readers. (e.g., from A1 to C2 according to the Common European Framework of Reference for Languages)\n",
    "\n",
    "Guidelines:\n",
    "Article: You will be provided with an existing article that needs to be repurposed.\n",
    "Rare Words List: A list of rare words that should be incorporated into the new version of the article.\n",
    "\n",
    "Natural Integration:\n",
    "\n",
    "Use rare words naturally within the narrative. The rare words should enhance the content and not feel out of place or forced.\n",
    "\n",
    "Guidelines:\n",
    "Follow the Rare word frequency parameter to determine how often rare words are integrated.\n",
    "For \"low\" frequency, use each rare word once.\n",
    "For \"medium\" frequency, use each rare word 2-3 times.\n",
    "For \"high\" frequency, use each rare word 4 or more times.\n",
    "\n",
    "Text Complexity:\n",
    "Ensure that non-rare vocabulary and sentence structure are appropriate for the target audience.\n",
    "\n",
    "Bold the rare words you insert into the repurposed text to highlight them for the reader.\"\"\"\n",
    "\n",
    "    user_prompt = f\"\"\"\n",
    "Analyze the provided article to understand its main ideas and structure.\n",
    "Identify suitable places to incorporate the rare words from the provided list based on the [RARE_WORD_FREQUENCY].\n",
    "Rewrite the article, integrating the rare words naturally and ensuring the text remains appropriate for the [AUDIENCE].\n",
    "Highlight the rare words in **bold** within the repurposed article.\n",
    "\n",
    "\n",
    "\n",
    "Rare word frequency: {RARE_WORD_FREQUENCY}\n",
    "Story Length: {STORY_LENGTH}\n",
    "Target audience: {TARGET_AUDIENCE}\n",
    "    \n",
    "Article:\n",
    "{article}\n",
    "Rare Words List:\n",
    "{word_list_text}\"\"\"\n",
    "\n",
    "    response = client.chat.completions.create(\n",
    "        model=\"gpt-4o\",\n",
    "        messages=[\n",
    "            {\"role\": \"system\", \"content\": system_prompt.strip()},\n",
    "            {\"role\": \"user\", \"content\": user_prompt.strip()}\n",
    "        ]\n",
    "    )\n",
    "\n",
    "    return response.choices[0].message.content.strip()\n"
   ],
   "id": "8d3e1d474fa92aa7",
   "outputs": [],
   "execution_count": 53
  },
  {
   "metadata": {
    "ExecuteTime": {
     "end_time": "2024-10-23T16:47:40.805861Z",
     "start_time": "2024-10-23T16:47:40.801243Z"
    }
   },
   "cell_type": "code",
   "source": [
    "def main():\n",
    "    word_list_text = generate_rare_nouns()\n",
    "    print(\"Generated Rare Nouns:\\n\")\n",
    "    print(word_list_text)\n",
    "    print(\"\\n\" + \"-\"*80 + \"\\n\")\n",
    "\n",
    "    rare_words = generate_rare_nouns()\n",
    "    print(\"Extracted Rare Words:\\n\")\n",
    "    print(rare_words)\n",
    "    print(\"\\n\" + \"-\"*80 + \"\\n\")\n",
    "\n",
    "    story = repurpose_article()\n",
    "    print(\"Generated Story:\\n\")\n",
    "    print(story)"
   ],
   "id": "a0c51dc9abc53246",
   "outputs": [],
   "execution_count": 54
  },
  {
   "metadata": {
    "ExecuteTime": {
     "end_time": "2024-10-23T16:47:54.641032Z",
     "start_time": "2024-10-23T16:47:43.814348Z"
    }
   },
   "cell_type": "code",
   "source": [
    "    story = repurpose_article()\n",
    "    print(\"Generated Story:\\n\")\n",
    "    print(story)"
   ],
   "id": "b99d305dc055539b",
   "outputs": [
    {
     "name": "stdout",
     "output_type": "stream",
     "text": [
      "Generated Story:\n",
      "\n",
      "Scholars often find themselves deeply **gratified** when their ideas gain traction. Their satisfaction reaches an even greater **apex** when these notions effect change—enhancing motivation, spurring innovation, or amplifying productivity, for instance. Nevertheless, the rise in popularity can exact a toll: Ideas may become **distorted**, and the intended benefits might not be fully realized. This distortion is becoming apparent in regards to my work on \"growth\" versus \"fixed\" mindsets among individuals and within organizations.\n",
      "\n",
      "To succinctly **encapsulate** the findings: Individuals who subscribe to the **precept** that talents can be developed—through effort, sound strategies, and guidance from others—are said to possess a growth mindset. They typically accomplish more compared to those with a fixed mindset, a belief that talents are intrinsic gifts. The **tenet** of growth mindset theory posits that such a belief leads to higher achievement because these individuals are less concerned about appearing intelligent and more invested in learning. An organization that universally encourages a growth mindset witnesses its employees feeling significantly more empowered and committed—this approach often acts as a **catalyst** for enhanced **collaboration** and innovation. Conversely, within firms where the fixed mindset dominates, reports of deceit and deception among employees surface, presumably as tactics to navigate the competitive quagmire of innate talent.\n",
      "\n",
      "A pivotal **paradigm** shift is necessary for companies to transition from a fixed to a growth mindset. This transformation often follows an **epiphany** where the realization dawns that resilience and adaptability, core elements of this underlying philosophy, are essential. Resilience, in particular, is a critical trait nurtured through a growth mindset, enabling quick recovery from challenges. While a growth mindset is by no means a **panacea**, it significantly **enhances** overall performance and workplace morale.\n",
      "\n",
      "Enigmatically, the dichotomy between growth and fixed mindsets reveals crucial insights into employee behavior. Organizations led by luminaries who advocate for this **transformational** approach often see altruism flourish among their teams. These leaders, as proponents of the mindset theory, champion environments that stress educational support and continuous learning. Despite its complexities, consensus on the importance of adopting such a mindset is vital for meaningful organizational change.\n",
      "\n",
      "It's evident that approaching challenges with **finesse** and aplomb provides a competitive edge, motivating both individuals and organizations alike to strive for excellence. This refined skill often sparks a curiosity for self-improvement, fueled by the realization that effort begets success. Although it may not solve every dilemma in the corporate world, a robust growth mindset creates an impetus for a dynamic and innovative culture, illuminating paths toward the apex of one's potential.\n"
     ]
    }
   ],
   "execution_count": 55
  }
 ],
 "metadata": {
  "kernelspec": {
   "display_name": "Python 3",
   "language": "python",
   "name": "python3"
  },
  "language_info": {
   "codemirror_mode": {
    "name": "ipython",
    "version": 2
   },
   "file_extension": ".py",
   "mimetype": "text/x-python",
   "name": "python",
   "nbconvert_exporter": "python",
   "pygments_lexer": "ipython2",
   "version": "2.7.6"
  }
 },
 "nbformat": 4,
 "nbformat_minor": 5
}
